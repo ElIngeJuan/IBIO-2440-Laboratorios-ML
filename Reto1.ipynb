{
 "cells": [
  {
   "cell_type": "markdown",
   "metadata": {},
   "source": [
    "# **Reto 1**\n",
    "\n",
    "Departamento de Ingeniería Biomédica\n",
    "\n",
    "Universidad de los Andes\n",
    "\n",
    "**IBIO-2440:** Fundamentos del machine learning\n"
   ]
  },
  {
   "cell_type": "markdown",
   "metadata": {},
   "source": [
    "**Nombres de los integrantes**\n",
    "\n",
    "\n",
    "1.  Laura Julieth Carretero Serrano\n",
    "2.  Juan David Rios Nisperuza\n",
    "\n",
    "**Número del grupo**\n",
    "\n",
    "*3*\n",
    "\n",
    "\n"
   ]
  },
  {
   "cell_type": "markdown",
   "metadata": {},
   "source": [
    "### **1. Explicación del problema general con palabras.**"
   ]
  },
  {
   "cell_type": "markdown",
   "metadata": {},
   "source": [
    "El problema trata sobre organizar los turnos de las enfermeras en la Clínica del Río para que ellas tengan un mejor horario y, al mismo tiempo, la clínica gaste lo menos posible en salarios.  \n",
    "\n",
    "Las enfermeras quieren trabajar cinco días seguidos y descansar dos días seguidos. La clínica ya sabe cuántas enfermeras necesita cada día y cuánto cuesta pagarles. El reto es encontrar la mejor forma de asignar los turnos para que se cumplan estas dos condiciones:  \n",
    "1. **Cubrir la demanda diaria de enfermeras.**  \n",
    "2. **Minimizar el costo total de los salarios.**  \n"
   ]
  },
  {
   "cell_type": "markdown",
   "metadata": {},
   "source": [
    "### **2. Definición de todos los componentes de un problema de optimización, para los cuales se deben justificar sus planteamientos y sus unidades.**"
   ]
  },
  {
   "cell_type": "markdown",
   "metadata": {},
   "source": [
    "El modelo de optimización busca asignar enfermeras a cada turno semanal de manera que el costo total de la nómina sea el menor posible, asegurando al mismo tiempo que cada día se cubra con la cantidad mínima requerida de personal.  \n",
    "\n",
    "### **Función objetivo**  \n",
    "El costo total de la nómina se obtiene sumando el número de enfermeras asignadas a cada turno, multiplicado por el salario diario correspondiente. En este caso, los salarios varían según el turno, con valores de 1280, 1360 y 1200 unidades monetarias, los cuales son calculados por el salario base para cada enfermera por dia multiplicado por el numero de enfermera necesaria cada dia. La función de costo se expresa como:  \n",
    "\n",
    "Costo total = 1280 × número de enfermeras en el turno 0 + 1360 × número de enfermeras en el turno 1 + … + 1200 × número de enfermeras en el turno 6.  \n",
    "\n",
    "El objetivo es encontrar la cantidad de enfermeras en cada turno de manera que este costo sea el menor posible.  \n",
    "\n",
    "### **Restricciones**  \n",
    "Cada día de la semana tiene una demanda específica de enfermeras. Para garantizar que esta necesidad se cumpla, se establecen ecuaciones que suman las enfermeras asignadas a los turnos que cubren cada día y las igualan a la cantidad requerida.  \n",
    "\n",
    "Por ejemplo, el lunes requiere 5 enfermeras. Los turnos que trabajan ese día son los asociados a las variables de decisión de los turnos C, D, E, F, G, (esto debido a que el turno A y B descansan ese dia) por lo que la ecuación de restricción es:  \n",
    "\n",
    "Número de enfermeras en el turno C + número de enfermeras en el turno D + número de enfermeras en el turno E + número de enfermeras en el turno F + número de enfermeras en el turno G = 5.  \n",
    "\n",
    "De manera similar, se plantean ecuaciones para el resto de los días, utilizando las combinaciones de turnos que cubren cada jornada.  \n"
   ]
  },
  {
   "cell_type": "markdown",
   "metadata": {},
   "source": [
    "### **3. Descripción de la implementación del código utilizado.**"
   ]
  },
  {
   "cell_type": "code",
   "execution_count": 397,
   "metadata": {},
   "outputs": [],
   "source": [
    "from scipy.optimize import minimize\n",
    "import numpy as np\n",
    "import sympy as sym\n"
   ]
  },
  {
   "cell_type": "code",
   "execution_count": 398,
   "metadata": {},
   "outputs": [
    {
     "data": {
      "text/plain": [
       " message: Optimization terminated successfully\n",
       " success: True\n",
       "  status: 0\n",
       "     fun: 8160.000000000003\n",
       "       x: [ 0.000e+00  1.000e+00  2.000e+00  2.000e+00  1.000e+00\n",
       "            1.332e-15  0.000e+00]\n",
       "     nit: 2\n",
       "     jac: [ 1.280e+03  1.360e+03  1.360e+03  1.360e+03  1.360e+03\n",
       "            1.280e+03  1.200e+03]\n",
       "    nfev: 16\n",
       "    njev: 2"
      ]
     },
     "execution_count": 398,
     "metadata": {},
     "output_type": "execute_result"
    }
   ],
   "source": [
    "# Función de costo: minimiza el costo total de la nómina de enfermeras\n",
    "def costo_nomina(x):\n",
    "    return 1280*x[0] + 1360*x[1] + 1360*x[2] + 1360*x[3] + 1360*x[4] + 1280*x[5] + 1200*x[6]\n",
    "\n",
    "# Restricciones de dotación mínima de enfermeras por día\n",
    "def restriccion_dia_lunes(x): \n",
    "    return x[1] + x[2] + x[3] + x[4] + x[5] - 6  # Lunes\n",
    "\n",
    "def restriccion_dia_martes(x): \n",
    "    return x[2] + x[3] + x[4] + x[5] + x[6] - 5  # Martes\n",
    "\n",
    "def restriccion_dia_miercoles(x): \n",
    "    return x[0] + x[3] + x[4] + x[5] + x[6] - 3  # Miércoles\n",
    "\n",
    "def restriccion_dia_jueves(x): \n",
    "    return x[0] + x[1] + x[4] + x[5] + x[6] - 2  # Jueves\n",
    "\n",
    "def restriccion_dia_viernes(x): \n",
    "    return x[0] + x[1] + x[2] + x[5] + x[6] - 3  # Viernes\n",
    "\n",
    "def restriccion_dia_sabado(x): \n",
    "    return x[0] + x[1] + x[2] + x[3] + x[6] - 5  # Sábado\n",
    "\n",
    "def restriccion_dia_domingo(x): \n",
    "    return x[0] + x[1] + x[2] + x[3] + x[4] - 6  # Domingo\n",
    "\n",
    "# Definir límites de las variables (número de enfermeras por tipo de turno, no negativo)\n",
    "bounds = [(0, None)] * 7\n",
    "\n",
    "# Valores iniciales \n",
    "x0 = np.ones(7) * 3\n",
    "\n",
    "restricciones = [\n",
    "    {'type': 'eq', 'fun': restriccion_dia_lunes},\n",
    "    {'type': 'eq', 'fun': restriccion_dia_martes},\n",
    "    {'type': 'eq', 'fun': restriccion_dia_miercoles},\n",
    "    {'type': 'eq', 'fun': restriccion_dia_jueves},\n",
    "    {'type': 'eq', 'fun': restriccion_dia_viernes},\n",
    "    {'type': 'eq', 'fun': restriccion_dia_sabado},\n",
    "    {'type': 'eq', 'fun': restriccion_dia_domingo}\n",
    "]\n",
    "\n",
    "# Optimización para minimizar costos respetando las restricciones\n",
    "resultado = minimize(costo_nomina, x0, bounds=bounds, constraints=restricciones)\n",
    "\n",
    "# Mostrar resultados\n",
    "resultado"
   ]
  },
  {
   "cell_type": "markdown",
   "metadata": {},
   "source": [
    "### **4. La solución obtenida, la cual debe ser indicada claramente en el informe.**"
   ]
  },
  {
   "cell_type": "code",
   "execution_count": 404,
   "metadata": {},
   "outputs": [
    {
     "name": "stdout",
     "output_type": "stream",
     "text": [
      "=== Resultados de la Optimización ===\n",
      "A (Domingo-Lunes): 0 enfermeras\n",
      "B (Lunes-Martes): 1 enfermeras\n",
      "C (Martes-Miércoles): 2 enfermeras\n",
      "D (Miércoles-Jueves): 2 enfermeras\n",
      "E (Jueves-Viernes): 1 enfermeras\n",
      "F (Viernes-Sábado): 0 enfermeras\n",
      "G (Sábado-Domingo): 0 enfermeras\n",
      "\n",
      "Costo total mínimo de la nómina: 8160 COP\n"
     ]
    }
   ],
   "source": [
    "solucion_optima = np.round(resultado.x).astype(int)\n",
    "costo_minimo = costo_nomina(solucion_optima)\n",
    "\n",
    "planes = [\"A (Domingo-Lunes)\", \"B (Lunes-Martes)\", \"C (Martes-Miércoles)\", \n",
    "          \"D (Miércoles-Jueves)\", \"E (Jueves-Viernes)\", \"F (Viernes-Sábado)\", \n",
    "          \"G (Sábado-Domingo)\"]\n",
    "\n",
    "print(\"=== Resultados de la Optimización ===\")\n",
    "for i in range(len(planes)):\n",
    "    print(f\"{planes[i]}: {solucion_optima[i]} enfermeras\")\n",
    "\n",
    "print(f\"\\nCosto total mínimo de la nómina: {costo_minimo} COP\")\n"
   ]
  },
  {
   "cell_type": "markdown",
   "metadata": {},
   "source": [
    "### **5. Análisis de la solución obtenida desde el punto de vista matemático.**"
   ]
  },
  {
   "cell_type": "code",
   "execution_count": 400,
   "metadata": {},
   "outputs": [
    {
     "data": {
      "text/plain": [
       "{lambda0: 320,\n",
       " lambda1: 240,\n",
       " lambda2: 240,\n",
       " lambda3: 240,\n",
       " lambda4: 240,\n",
       " lambda5: 240,\n",
       " lambda6: 320,\n",
       " x0: 0,\n",
       " x1: 1,\n",
       " x2: 2,\n",
       " x3: 2,\n",
       " x4: 1,\n",
       " x5: 0,\n",
       " x6: 0}"
      ]
     },
     "execution_count": 400,
     "metadata": {},
     "output_type": "execute_result"
    }
   ],
   "source": [
    "def DerivativeMatrix(function, variables):\n",
    "    \"\"\"\n",
    "    Calcula la matriz Jacobiana de derivadas parciales de un conjunto de funciones respecto a un conjunto de variables.\n",
    "    \"\"\"\n",
    "    m = len(variables)\n",
    "    n = len(function)\n",
    "    matrix = sym.zeros(n, m)\n",
    "    for fun in range(n):\n",
    "        for variable in range(m):\n",
    "            f = function[fun]\n",
    "            v = variables[variable]\n",
    "            matrix[fun, variable] = f.diff(v)\n",
    "    return matrix\n",
    "\n",
    "def GetLagrange(f, constraints):\n",
    "    \"\"\"\n",
    "    Aplica el método de Lagrange para optimización con restricciones de igualdad.\n",
    "    \"\"\"\n",
    "    # Definir variables de decisión\n",
    "    x0, x1, x2, x3, x4, x5, x6 = sym.symbols('x0 x1 x2 x3 x4 x5 x6')\n",
    "    lambda0, lambda1, lambda2, lambda3, lambda4, lambda5, lambda6 = sym.symbols('lambda0 lambda1 lambda2 lambda3 lambda4 lambda5 lambda6')\n",
    "    \n",
    "    # Construcción del sistema de ecuaciones de Lagrange\n",
    "    g0, g1, g2, g3, g4, g5, g6 = constraints\n",
    "    # Derivadas parciales de la función objetivo respecto a cada variable\n",
    "    df_dx0 = f.diff(x0) - (lambda0 * g0.diff(x0) + lambda1 * g1.diff(x0) + lambda2 * g2.diff(x0) + lambda3 * g3.diff(x0) + lambda4 * g4.diff(x0) + lambda5 * g5.diff(x0) + lambda6 * g6.diff(x0))\n",
    "    df_dx1 = f.diff(x1) - (lambda0 * g0.diff(x1) + lambda1 * g1.diff(x1) + lambda2 * g2.diff(x1) + lambda3 * g3.diff(x1) + lambda4 * g4.diff(x1) + lambda5 * g5.diff(x1) + lambda6 * g6.diff(x1))\n",
    "    df_dx2 = f.diff(x2) - (lambda0 * g0.diff(x2) + lambda1 * g1.diff(x2) + lambda2 * g2.diff(x2) + lambda3 * g3.diff(x2) + lambda4 * g4.diff(x2) + lambda5 * g5.diff(x2) + lambda6 * g6.diff(x2))\n",
    "    df_dx3 = f.diff(x3) - (lambda0 * g0.diff(x3) + lambda1 * g1.diff(x3) + lambda2 * g2.diff(x3) + lambda3 * g3.diff(x3) + lambda4 * g4.diff(x3) + lambda5 * g5.diff(x3) + lambda6 * g6.diff(x3))\n",
    "    df_dx4 = f.diff(x4) - (lambda0 * g0.diff(x4) + lambda1 * g1.diff(x4) + lambda2 * g2.diff(x4) + lambda3 * g3.diff(x4) + lambda4 * g4.diff(x4) + lambda5 * g5.diff(x4) + lambda6 * g6.diff(x4))\n",
    "    df_dx5 = f.diff(x5) - (lambda0 * g0.diff(x5) + lambda1 * g1.diff(x5) + lambda2 * g2.diff(x5) + lambda3 * g3.diff(x5) + lambda4 * g4.diff(x5) + lambda5 * g5.diff(x5) + lambda6 * g6.diff(x5))\n",
    "    df_dx6 = f.diff(x6) - (lambda0 * g0.diff(x6) + lambda1 * g1.diff(x6) + lambda2 * g2.diff(x6) + lambda3 * g3.diff(x6) + lambda4 * g4.diff(x6) + lambda5 * g5.diff(x6) + lambda6 * g6.diff(x6))\n",
    "    \n",
    "    equations = [df_dx0, df_dx1, df_dx2, df_dx3, df_dx4, df_dx5, df_dx6, g0, g1, g2, g3, g4, g5, g6]\n",
    "    \n",
    "    values = sym.solve(equations, (x0, x1, x2, x3, x4, x5, x6, lambda0, lambda1, lambda2, lambda3, lambda4, lambda5, lambda6))\n",
    "    return values\n",
    "\n",
    "\n",
    "# Definir las variables de decisión\n",
    "x0, x1, x2, x3, x4, x5, x6 = sym.symbols('x0 x1 x2 x3 x4 x5 x6')\n",
    "\n",
    "# Definir la función objetivo\n",
    "f = 1280*x0 + 1360*x1 + 1360*x2 + 1360*x3 + 1360*x4 + 1280*x5 + 1200*x6\n",
    "\n",
    "# Definir las restricciones de igualdad\n",
    "constraints = [\n",
    "    x1 + x2 + x3 + x4 + x5 - 6,\n",
    "    x2 + x3 + x4 + x5 + x6 - 5,\n",
    "    x0 + x3 + x4 + x5 + x6 - 3,\n",
    "    x0 + x1 + x4 + x5 + x6 - 2,\n",
    "    x0 + x1 + x2 + x5 + x6 - 3,\n",
    "    x0 + x1 + x2 + x3 + x6 - 5,\n",
    "    x0 + x1 + x2 + x3 + x4 - 6\n",
    "]\n",
    "\n",
    "# Aplicar el método de Lagrange para encontrar los valores óptimos\n",
    "values = GetLagrange(f, constraints)\n",
    "values\n"
   ]
  },
  {
   "cell_type": "markdown",
   "metadata": {},
   "source": [
    "Una forma analítica de abordar problemas de optimización con restricciones es utilizando los multiplicadores de Lagrange. Este método nos permite encontrar el mejor resultado posible respetando las condiciones del problema. En este caso, queremos minimizar el costo de la nómina de enfermeras asegurando que haya suficientes cada día.\n",
    "\n",
    "Al resolver el sistema de ecuaciones, encontramos una única solución que garantiza el costo más bajo, lo cual tiene sentido porque el método de Lagrange busca justamente eso. La solución obtenida es:\n",
    "\n",
    "x0: 0\n",
    "\n",
    "x1: 1\n",
    "\n",
    "x2: 2\n",
    "\n",
    "x3: 2\n",
    "\n",
    "x4: 1\n",
    "\n",
    "x5: 0\n",
    "\n",
    "x6: 0\n",
    "\n",
    "Esta solución es la misma que habíamos obtenido antes con la implementación en spicy, lo que implicaria que es correcta."
   ]
  },
  {
   "cell_type": "markdown",
   "metadata": {},
   "source": [
    "### **6. Análisis de la solución desde el punto de vista del contexto del problema.**"
   ]
  },
  {
   "cell_type": "markdown",
   "metadata": {},
   "source": [
    "**Interpretación del resultado:**\n",
    "\n",
    "- **Turnos asignados:**  \n",
    "  - Turno B (descanso Lunes-Martes): 1 enfermera  \n",
    "  - Turno C (descanso Martes-Miércoles): 2 enfermeras  \n",
    "  - Turno D (descanso Miércoles-Jueves): 2 enfermeras  \n",
    "  - Turno E (descanso Jueves-Viernes): 1 enfermera  \n",
    "  - Los turnos A, F y G tienen 0 enfermeras asignadas.\n",
    "\n",
    "**Análisis de la cobertura diaria:**  \n",
    "Recordando que cada turno significa que la enfermera trabaja los 5 días restantes, tenemos:  \n",
    "- **Domingo:** Lo trabajan las enfermeras de los turnos B, C, D y E, lo que suma 1 + 2 + 2 + 1 = 6 enfermeras.  \n",
    "- **Lunes:** Se trabaja en los turnos C, D y E (5 enfermeras en total).  \n",
    "- **Martes:** Solo trabajan en D y E (2 + 1 = 3 enfermeras).  \n",
    "- **Miércoles:** Trabajan en B y E (1 + 1 = 2 enfermeras).  \n",
    "- **Jueves:** Se cuenta con B y C (1 + 2 = 3 enfermeras).  \n",
    "- **Viernes:** Se suman B, C y D (1 + 2 + 2 = 5 enfermeras).  \n",
    "- **Sábado:** Trabajan B, C, D y E (1 + 2 + 2 + 1 = 6 enfermeras).\n",
    "\n",
    "Esto se ajusta a la demanda original:  \n",
    "- Domingo: 5 enfermeras requeridas (se cubren 6)  \n",
    "- Lunes: 5 enfermeras requeridas (se cubren 5)  \n",
    "- Martes: 3 enfermeras requeridas (se cubren 3)  \n",
    "- Miércoles: 2 enfermeras requeridas (se cubren 2)  \n",
    "- Jueves: 3 enfermeras requeridas (se cubren 3)  \n",
    "- Viernes: 5 enfermeras requeridas (se cubren 5)  \n",
    "- Sábado: 6 enfermeras requeridas (se cubren 6)\n",
    "\n",
    "**Desde el punto de vista del contexto del problema:**  \n",
    "\n",
    "La asignación de turnos, vista en términos de días de descanso, garantiza que cada día se cuente con el número exacto de enfermeras necesarias para atender la demanda de la clínica (excepto el domingo). Además, cada enfermera, según el turno asignado, tiene dos días consecutivos libres, lo que cumple con la preferencia de trabajar cinco días seguidos y descansar dos días. Por otro lado, la solución logra optimizar el costo total de la nómina, resultando en 8160 COP, lo que demuestra que se ha cubierto la demanda con el menor gasto posible y cumpliendo las condiciones anteriores.\n"
   ]
  }
 ],
 "metadata": {
  "kernelspec": {
   "display_name": "base",
   "language": "python",
   "name": "python3"
  },
  "language_info": {
   "codemirror_mode": {
    "name": "ipython",
    "version": 3
   },
   "file_extension": ".py",
   "mimetype": "text/x-python",
   "name": "python",
   "nbconvert_exporter": "python",
   "pygments_lexer": "ipython3",
   "version": "3.12.3"
  }
 },
 "nbformat": 4,
 "nbformat_minor": 2
}
