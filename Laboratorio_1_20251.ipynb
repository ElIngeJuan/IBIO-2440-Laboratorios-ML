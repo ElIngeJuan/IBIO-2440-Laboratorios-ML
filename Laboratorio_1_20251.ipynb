{
 "cells": [
  {
   "cell_type": "markdown",
   "metadata": {
    "id": "yi34l9LYTUxx"
   },
   "source": [
    "# **Laboratorio 1: Una introducción a NumPy**\n",
    "\n",
    "**Facultad de ingeniería**\n",
    "\n",
    "Departamento de Ingeniería Biomédica\n",
    "\n",
    "Universidad de los Andes\n",
    "\n",
    "**IBIO-2340:** Fundamentos del machine learning"
   ]
  },
  {
   "cell_type": "markdown",
   "metadata": {
    "id": "q6l8Azb1Tdbo"
   },
   "source": [
    "**Nombres de los integrantes**\n",
    "\n",
    "\n",
    "1.   Laura Julieth Carretero Serran\n",
    "2.   Juan David Rios Nisperuza\n",
    "\n",
    "**Número del grupo**\n",
    "\n",
    "*3*\n"
   ]
  },
  {
   "cell_type": "markdown",
   "metadata": {
    "id": "qleaiXKOui8U"
   },
   "source": [
    "# **1. Funciones en Python**\n",
    "\n",
    "Para cada uno de los siguientes problemas, implemente una función que los resuelva. No puede utilizar ninguna librería externa de Python como NumPy o Scipy con métodos preestablecidos para resolverlos. Cada definición de la función deberá probarla con un ejemplo para validar la solución."
   ]
  },
  {
   "cell_type": "markdown",
   "metadata": {
    "id": "c95ohWaEvJAl"
   },
   "source": [
    "**1.1. Escriba una función que reciba como argumento una lista con números y retorne la suma de todos los números dentro de la misma.**"
   ]
  },
  {
   "cell_type": "code",
   "execution_count": 89,
   "metadata": {
    "id": "-gzq2VnEva0g"
   },
   "outputs": [
    {
     "name": "stdout",
     "output_type": "stream",
     "text": [
      "La suma de los números dentro de la lista es 15\n"
     ]
    }
   ],
   "source": [
    "numeros = [1, 2, 3, 4, 5]\n",
    "\n",
    "def sumar_lista(lista):\n",
    "    return sum(lista)\n",
    "\n",
    "resultado = sumar_lista(numeros)\n",
    "print(f'La suma de los números dentro de la lista es {resultado}')\n"
   ]
  },
  {
   "cell_type": "markdown",
   "metadata": {
    "id": "ZtIyBUkwvclE"
   },
   "source": [
    "**1.2. Escriba una función que reciba como argumento un numero entero positivo y retorne el factorial del mismo.**\n",
    "\n",
    "**Nota:** Recuerde que el factorial de un número está dado por la siguiente fórmula:\n",
    "\n",
    "\\begin{align}\n",
    "        n! = n * (n-1) * (n-2) * (n-3) * ... *(1)\n",
    "\\end{align}"
   ]
  },
  {
   "cell_type": "code",
   "execution_count": 90,
   "metadata": {
    "id": "3BUh5cUVvclF"
   },
   "outputs": [
    {
     "name": "stdout",
     "output_type": "stream",
     "text": [
      "El factorial de 5 es 120\n"
     ]
    }
   ],
   "source": [
    "def calcular_factorial(n):\n",
    "    if n == 0 or n == 1:\n",
    "        return 1\n",
    "    return n * calcular_factorial(n - 1)\n",
    "\n",
    "print(f'El factorial de 5 es {calcular_factorial(5)}')\n"
   ]
  },
  {
   "cell_type": "markdown",
   "metadata": {
    "id": "3CHXMEjUyLXp"
   },
   "source": [
    "**1.3. Escriba una función que reciba como argumento una lista con números y retorne el promedio ponderado de los números dentro de la misma. Asuma que cada elemento tiene como peso su índice dentro de la lista (el elemento 0 tiene peso 0).**"
   ]
  },
  {
   "cell_type": "code",
   "execution_count": 91,
   "metadata": {
    "id": "o4sf1VP3yLXw"
   },
   "outputs": [
    {
     "name": "stdout",
     "output_type": "stream",
     "text": [
      "El promedio ponderado es 7.666666666666667\n"
     ]
    }
   ],
   "source": [
    "numeros = [3, 5, 7, 9]  \n",
    "\n",
    "\n",
    "def promedio_ponderado(lista):\n",
    "    suma_ponderada = sum(valor * indice for indice, valor in enumerate(lista))\n",
    "    suma_pesos = sum(range(len(lista)))\n",
    "\n",
    "    return suma_ponderada / suma_pesos if suma_pesos != 0 else 0\n",
    "\n",
    "resultado = promedio_ponderado(numeros)\n",
    "print(f'El promedio ponderado es {resultado}')\n"
   ]
  },
  {
   "cell_type": "markdown",
   "metadata": {
    "id": "Eo7qhSx_UhgX"
   },
   "source": [
    "# **2. ¿Que es NumPy?**\n",
    "\n",
    "NumPy es una de las librerías más utilizadas. Esta permite realizar desde operaciones matriciales simples hasta complejas transformadas para el procesamiento de señales. Su utilidad en la programación científica radica en la facilidad que ofrece a la hora de realizar operaciones algebraicas complicadas como diagonalización de matrices, y el cálculo de valores y vectores propios. A continuación se detallará más algunas de las principales y más útiles funciones de esta libreria que serán de utilidad dentro del curso:"
   ]
  },
  {
   "cell_type": "markdown",
   "metadata": {
    "id": "kI7nPjKtycN4"
   },
   "source": [
    "En primer lugar, vamos a iniciar instalando y/o importando la libreria numpy en nuestro ambiente."
   ]
  },
  {
   "cell_type": "markdown",
   "metadata": {},
   "source": [
    "Si trabaja en **Windows**:\n",
    "1. Active su entorno virtual usando el comando:\n",
    "    ```bash \n",
    "    .\\venv\\Scripts\\activate\n",
    "2. Una vez en el entorno virtual instale numpy usando pip con el comando:\n",
    "    ```bash\n",
    "    pip install numpy\n",
    "Si trabaja en **Linux** o **MacOS**:\n",
    "1. Active su entorno virtual usando el comando: \n",
    "    ```bash\n",
    "    source .venv/bin/activate\n",
    "2. Una vez en el entorno virtual instale numpy usando pip con el comando:\n",
    "    ```bash\n",
    "    pip install numpy"
   ]
  },
  {
   "cell_type": "code",
   "execution_count": 92,
   "metadata": {},
   "outputs": [
    {
     "name": "stdout",
     "output_type": "stream",
     "text": [
      "NumPy versión 1.26.4 se encuentra instalada en su sistema.\n"
     ]
    }
   ],
   "source": [
    "\"\"\"\n",
    "Nota: El siguiente fragmento de código detecta si NumPy está instalado en su sistema y en caso de no ser así,\n",
    "procede con la instalación automáticamente.\n",
    "\n",
    "NO SE DEBE MODIFICAR ESTE FRAGMENTO.\n",
    "\n",
    "\n",
    "\"\"\"\n",
    "\n",
    "try:\n",
    "  import numpy as np\n",
    "  print(f\"NumPy versión {np.__version__} se encuentra instalada en su sistema.\")\n",
    "except ImportError:\n",
    "  print(\"NumPy no encontrado en su sistema. Verifique la instalación de Numpy.\")"
   ]
  },
  {
   "cell_type": "markdown",
   "metadata": {
    "id": "ELyXfeq31xr0"
   },
   "source": [
    "**Nota:** NumPy posee varias funciones que son de utilidad operando arreglos. A continuación se detallan algunas:\n",
    "\n",
    "**np.mean:** Retorna el promedio aritmético de un arreglo numérico.\n",
    "\n",
    "**np.std:** Retorna la desviación estandar de un arreglo numérico.\n",
    "\n",
    "**np.sum:** Retorna la suma de todos los números cotenidos en un arreglo.\n",
    "\n",
    "**np.prod:** Retorna la multiplicación de todos los números contenidos en un arreglo.\n",
    "\n",
    "\n",
    "De la misma manera, NumPy contiene distintos módulos orientados a campos específicos como *np.linalg*  y *np.random*. Así mismo contiene diferentes funciones matemáticas básicas que se aplican en arreglos (ver https://numpy.org/doc/stable/reference/routines.math.html). En particular, el módulo *np.linalg* contiene implementaciones que permiten ejecutar distintas operaciones dentro del campo del álgebra lineal que veremos más adelante.\n",
    "\n",
    "**2.1. A continuación, repita los puntos 1.1, 1.2 y 1.3 pero utilice las funciones y arreglos de Numpy para sus implementaciones. Recuerde revisar la documentación de la librería como ayuda.**\n"
   ]
  },
  {
   "cell_type": "code",
   "execution_count": 93,
   "metadata": {
    "id": "DaP9-gqMskfZ"
   },
   "outputs": [
    {
     "name": "stdout",
     "output_type": "stream",
     "text": [
      "La suma de los números dentro de la lista es 15\n"
     ]
    }
   ],
   "source": [
    "#Repetición punto 1.1\n",
    "\n",
    "numeros = [1, 2, 3, 4, 5]\n",
    "\n",
    "def sumar_lista(lista):\n",
    "    return np.sum(lista)\n",
    "\n",
    "resultado = sumar_lista(numeros)\n",
    "print(f'La suma de los números dentro de la lista es {resultado}')"
   ]
  },
  {
   "cell_type": "code",
   "execution_count": 94,
   "metadata": {
    "id": "ZqHQlV-_2ReS"
   },
   "outputs": [
    {
     "name": "stdout",
     "output_type": "stream",
     "text": [
      "El factorial de 5 es 120\n"
     ]
    },
    {
     "name": "stderr",
     "output_type": "stream",
     "text": [
      "C:\\Users\\laura\\AppData\\Local\\Temp\\ipykernel_28036\\3715009765.py:3: DeprecationWarning: `np.math` is a deprecated alias for the standard library `math` module (Deprecated Numpy 1.25). Replace usages of `np.math` with `math`\n",
      "  return np.math.factorial(n)\n"
     ]
    }
   ],
   "source": [
    "#Repetición punto 1.2\n",
    "def calcular_factorial(n):\n",
    "    return np.math.factorial(n)\n",
    "\n",
    "print(f'El factorial de 5 es {calcular_factorial(5)}')"
   ]
  },
  {
   "cell_type": "code",
   "execution_count": 95,
   "metadata": {
    "id": "T0PqOF972Rk9"
   },
   "outputs": [
    {
     "name": "stdout",
     "output_type": "stream",
     "text": [
      "El promedio ponderado es: 7.666666666666667\n"
     ]
    }
   ],
   "source": [
    "#Repetición punto 1.3\n",
    "\n",
    "numeros = [3, 5, 7, 9]  \n",
    "\n",
    "def promedio_ponderado(lista):\n",
    "    numeros = np.array(lista)\n",
    "    pesos = np.arange(len(numeros))\n",
    "    return np.average(numeros, weights=pesos)\n",
    "\n",
    "print(f\"El promedio ponderado es: {promedio_ponderado(numeros)}\")"
   ]
  },
  {
   "cell_type": "markdown",
   "metadata": {
    "id": "DqW0_XQc2ZoN"
   },
   "source": [
    "#**3. Arrays en numpy**\n",
    "\n",
    "Dentro de NumPy, una de los principales elementos son los *ndarrays* o simplemente **numpy arrays**, una estructura de datos similar a la lista tradicional de Python pero que permite mayor versatilidad a la hora de realizar operaciones. Los arrays son útiles a la hora de representar información como vectores y matrices.\n",
    "\n",
    "Para iniciar un vector con los números de 1 a 5 se utiliza la instrucción 'np.array()' de la siguiente manera:\n",
    "\n"
   ]
  },
  {
   "cell_type": "code",
   "execution_count": 96,
   "metadata": {
    "colab": {
     "base_uri": "https://localhost:8080/"
    },
    "id": "Pd7VkpdO4BBN",
    "outputId": "c70cb29e-d564-4a78-b91b-97aa5e330f8d"
   },
   "outputs": [
    {
     "name": "stdout",
     "output_type": "stream",
     "text": [
      "[1 2 3 4 5]\n"
     ]
    }
   ],
   "source": [
    "vector = np.array([1,2,3,4,5])\n",
    "print(vector)"
   ]
  },
  {
   "cell_type": "markdown",
   "metadata": {
    "id": "FTtxpWIb4Mwn"
   },
   "source": [
    "De la misma manera, una matriz puede ser iniciada como un arreglo de arreglos según el número de dimensiones que se requiere. Por ejemplo, para iniciar una matriz de 2x2 que contenga los números de 1 a 4 se debe realizar lo siguiente:"
   ]
  },
  {
   "cell_type": "code",
   "execution_count": 97,
   "metadata": {
    "colab": {
     "base_uri": "https://localhost:8080/"
    },
    "id": "fhJbywwu4zmb",
    "outputId": "46e10bf1-49b0-49ce-e6b7-2c55d2e9e11d"
   },
   "outputs": [
    {
     "name": "stdout",
     "output_type": "stream",
     "text": [
      "[[1 2]\n",
      " [3 4]]\n",
      "(2, 2)\n"
     ]
    }
   ],
   "source": [
    "matriz = np.array([[1,2],[3,4]])\n",
    "print(matriz)\n",
    "print(matriz.shape)"
   ]
  },
  {
   "cell_type": "markdown",
   "metadata": {
    "id": "9ImYAnmh4_01"
   },
   "source": [
    "Como se ve en la celda anterior, todos los arrays tienen un atributo denominado *shape*, que le indica al usuario las dimensiones del objeto, o lo que es lo mismo, el número de objetos en un vector o de filas y columnas en una matriz."
   ]
  },
  {
   "cell_type": "markdown",
   "metadata": {
    "id": "p8Qc17wy62TW"
   },
   "source": [
    "Así como los arrays tienen un atributo denominado shape, existen diferentes atributos que dan más información acerca del array. Acá se detallan algunos de los más comunes:\n",
    "\n",
    "**array.ndim:** Especifica el número de dimensiones de un array; 0 en el caso de un escalar, 1 en el caso de un vector, 2 en el caso de una matriz, ...\n",
    "\n",
    "**array.size:** Retorna el número de elementos dentro de un array.\n",
    "\n",
    "**array.T:** Retorna el array transpuesto.\n",
    "\n",
    "Algunos ejemplos de estos atributos se ven a continuación:"
   ]
  },
  {
   "cell_type": "code",
   "execution_count": 98,
   "metadata": {
    "colab": {
     "base_uri": "https://localhost:8080/"
    },
    "id": "-Jao_7ya61rh",
    "outputId": "07c2c3b8-2522-4104-b255-c2e9b83c02e0"
   },
   "outputs": [
    {
     "name": "stdout",
     "output_type": "stream",
     "text": [
      "Numero de dimensiones en nuestra matriz: 2\n",
      "Numero de elementos en nuestra matriz: 4\n",
      "Matriz transpuesta de nuestra matriz:\n",
      " [[1 3]\n",
      " [2 4]]\n"
     ]
    }
   ],
   "source": [
    "print(\"Numero de dimensiones en nuestra matriz:\", matriz.ndim)\n",
    "print(\"Numero de elementos en nuestra matriz:\", matriz.size)\n",
    "print(\"Matriz transpuesta de nuestra matriz:\\n\", matriz.T)"
   ]
  },
  {
   "cell_type": "markdown",
   "metadata": {
    "id": "Nlx8f5MAApeF"
   },
   "source": [
    "**3.1. Indexación de arrays de numpy**\n",
    "\n",
    "\n",
    "La indexación es conocida como el proceso para obtener el elemento de una determinada posición dentro de un arreglo (array, lista). Se utilizan los paréntesis cuadrados ([]) para indicar la posición de la que se quiere extraer el valor. En NumPy la indexación es similar a la realizada sobre listas de Python.\n",
    "\n",
    "Cuando se tiene un vector, cualquier posición puede ser obtenida simplemente indicando el nombre del vector y la posición deseada. La posición en el arreglo de cualquier elemento se especifica atraves de su índice, un número entero que va desde 0 hasta el número de elementos del arreglo. En Numpy (y en Python) el primer elemento tiene como índice a cero. Por ejemplo, para obtener el tercer elemento del arreglo, pasamos su índice (2):"
   ]
  },
  {
   "cell_type": "code",
   "execution_count": 99,
   "metadata": {
    "colab": {
     "base_uri": "https://localhost:8080/"
    },
    "id": "lwApTmRsBg69",
    "outputId": "e233dc2a-a803-4745-c439-8def85d6b40d"
   },
   "outputs": [
    {
     "name": "stdout",
     "output_type": "stream",
     "text": [
      "3\n"
     ]
    }
   ],
   "source": [
    "vector = np.array([1,2,3,4,5])\n",
    "print(vector[2])"
   ]
  },
  {
   "cell_type": "markdown",
   "metadata": {
    "id": "LSJpGZNhBnWh"
   },
   "source": [
    "Por otra parte, en el caso de las matrices usualmente se realiza con una doble indexación en el caso de las listas de listas de Python. Esta manera cambia un poco dentro de los arrays, donde se debe indicar dentro de los paréntesis cuadrados las \"coordenadas\" del elemento que queremos. Se debe tener en cuenta que al igual que en las listas de listas la primer coordenada indica la fila mientras que la segunda coordenada indica la columna. \n",
    "La indexación de filas y columnas inicia en cero, por lo que la primera fila tiene índice 0, así como la primera columna. Por ejemplo, para obtener el elemento que se encuentra en la primera fila y la segunda columna escribimos:"
   ]
  },
  {
   "cell_type": "code",
   "execution_count": 100,
   "metadata": {
    "colab": {
     "base_uri": "https://localhost:8080/"
    },
    "id": "i9Pnm8fPBnDT",
    "outputId": "8bc4bbec-80e0-47a6-a7c0-daa33f68faea"
   },
   "outputs": [
    {
     "name": "stdout",
     "output_type": "stream",
     "text": [
      "2\n"
     ]
    }
   ],
   "source": [
    "matriz = np.array([[1,2],[3,4]])\n",
    "print(matriz[0,1])"
   ]
  },
  {
   "cell_type": "markdown",
   "metadata": {
    "id": "Wzmu4MXVAx7Q"
   },
   "source": [
    "**Slicing en arrays de Numpy**\n",
    "\n",
    "De la misma manera, si se desea obtener varios elementos se puede hacer uso de la indexación con coordenadas en conjunto con el elemento \":\" (dos puntos), donde el número a la izquierda indica el índice de inicio y el número a la derecha indica la posición final (equivalente el índice final de la posición final - 1). Por ejemplo:\n",
    "\n",
    "```\n",
    "vector[:]  #Devuelve todos los elementos del vector\n",
    "vector[2:5] #Devuelve los elementos desde el segundo índice hasta el cuarto índice (la quinta posición).\n",
    "vector[:5] #Devuelve los elementos desde el primer índice hasta el cuarto índice (la quinta posición).\n",
    "vector[2:] #Devuelve los elementos a partir del segundo índice hasta el final del arreglo.\n",
    "vector[::2] #Devuelve los elementos desde el inicio del arreglo hasta el final, saltando el índice en pasos de 2.\n",
    "vector[2:5:2] #Devuelve los elementos desde el segundo índice hasta el cuarto índice saltando el índice en pasos de 2.\n",
    "```\n",
    "\n",
    "En matrices se realiza la misma operación según las filas y columnas que se quieren. Por ejemplo:\n",
    "\n",
    "```\n",
    "matriz[:,:]  #Devuelve todos los elementos de tanto filas como columnas\n",
    "matriz[2:5,:] #Devuelve los elementos desde el tercera fila (índice 2) hasta la quinta fila (índice 5 - 1), incluyendo todas las columnas. \n",
    "matriz[:,:5] #Devuelve los elementos para todas las filas desde la primera columna hasta la quinta columna (índice 5 - 1).\n",
    "matriz[2:,:] #Devuelve los elementos a partir de la segunda fila para todas las columnas.\n",
    "matriz[::2,::3] #Devuelve las filas de la primera a la última con pasos de 2 posiciones y de la primera a la última columna con pasos de 3 posiciones.\n",
    "```\n"
   ]
  },
  {
   "cell_type": "markdown",
   "metadata": {
    "id": "nCeG5Bc9Ko1Z"
   },
   "source": [
    "**3.2. Ejercicios**\n",
    "\n",
    "1. Escriba una función que reciba como argumento una matriz de NXN y retorne todos los elementos de la diagonal principal en un array de NumPy."
   ]
  },
  {
   "cell_type": "code",
   "execution_count": 101,
   "metadata": {
    "id": "jyxXuB4OD-47"
   },
   "outputs": [
    {
     "name": "stdout",
     "output_type": "stream",
     "text": [
      "[1 5 9]\n"
     ]
    }
   ],
   "source": [
    "matriz = np.array([[1, 2, 3],\n",
    "                   [4, 5, 6],\n",
    "                   [7, 8, 9]])\n",
    "\n",
    "def obtener_diagonal_principal(matriz):\n",
    "    return np.diagonal(matriz)\n",
    "\n",
    "print(obtener_diagonal_principal(matriz))"
   ]
  },
  {
   "cell_type": "markdown",
   "metadata": {
    "id": "RkNJa40-LCu3"
   },
   "source": [
    "2. Escriba una función que reciba como argumentos una matriz de NxN y un número de fila y retorne la multiplicación de todos los elementos de dicha fila."
   ]
  },
  {
   "cell_type": "code",
   "execution_count": 102,
   "metadata": {
    "id": "WV5u9IbULNSu"
   },
   "outputs": [
    {
     "name": "stdout",
     "output_type": "stream",
     "text": [
      "120\n"
     ]
    }
   ],
   "source": [
    "def multiplicar_fila(matriz, fila):\n",
    "    matriz_np = np.array(matriz)\n",
    "    return np.prod(matriz_np[fila])\n",
    "\n",
    "matriz = [\n",
    "    [1, 2, 3],\n",
    "    [4, 5, 6],\n",
    "    [7, 8, 9]\n",
    "]\n",
    " \n",
    "resultado = multiplicar_fila(matriz, 1)\n",
    "print(resultado)"
   ]
  },
  {
   "cell_type": "markdown",
   "metadata": {
    "id": "JhhPIHRoLO6N"
   },
   "source": [
    "3. Escriba una función que reciba como argumentos una matriz de NxN y un número de columna y retorne la suma de todos los elementos de dicha columna."
   ]
  },
  {
   "cell_type": "code",
   "execution_count": 103,
   "metadata": {
    "id": "qbDZpsYjLqwu"
   },
   "outputs": [
    {
     "name": "stdout",
     "output_type": "stream",
     "text": [
      "Suma de la columna 1 es: 15\n"
     ]
    }
   ],
   "source": [
    "matriz = np.array([[1, 2, 3],\n",
    "                   [4, 5, 6],\n",
    "                   [7, 8, 9]])\n",
    "\n",
    "columna = 1\n",
    "\n",
    "def suma_columna(matriz, col):\n",
    "    return np.sum(matriz[:, col])\n",
    "\n",
    "resultado = suma_columna(matriz, columna)\n",
    "print(\"Suma de la columna\", columna, \"es:\", resultado)\n"
   ]
  },
  {
   "cell_type": "markdown",
   "metadata": {
    "id": "BYDBpcYjL9eY"
   },
   "source": [
    "4. Escriba una función que reciba como argumento una matriz y retorne su transpuesta."
   ]
  },
  {
   "cell_type": "code",
   "execution_count": 104,
   "metadata": {
    "id": "nRTug2PcLOlW"
   },
   "outputs": [
    {
     "name": "stdout",
     "output_type": "stream",
     "text": [
      "[[1 4 7]\n",
      " [2 5 8]\n",
      " [3 6 9]]\n"
     ]
    }
   ],
   "source": [
    "def transponer_matriz(matriz):\n",
    "    matriz_np = np.array(matriz)\n",
    "    return matriz_np.T\n",
    "\n",
    "matriz = [\n",
    "    [1, 2, 3],\n",
    "    [4, 5, 6],\n",
    "    [7, 8, 9]\n",
    "]\n",
    "\n",
    "transpuesta = transponer_matriz(matriz)\n",
    "print(transpuesta)\n"
   ]
  },
  {
   "cell_type": "markdown",
   "metadata": {
    "id": "cNwvzcw9MJpu"
   },
   "source": [
    "**3.3. Tipos especiales de matrices en NumPy**\n",
    "\n",
    "Numpy permite crear matrices especiales utilizando como argumento su forma (el método shape). Algunas matrices pueden ser:\n",
    "\n",
    "**Matriz donde todos sus elementos son 0:** Esta matriz puede ser creada utilizando la función *np.zeros()* donde como argumento *shape* se debe indicar las dimensiones con las que se quiere construir la matriz.\n",
    "\n",
    "**Matriz donde todos sus elementos son 1:** Esta matriz puede ser creada utilizando la función *np.ones()* donde como argumento *shape* se debe indicar las dimensiones con las que se quiere construir la matriz.\n",
    "\n",
    "**Matriz identidad:** Esta matriz puede ser creada utilizando la función *np.identity* que toma por argumento el número de filas ó de columnas, en cualquier caso genera una matriz cuadrada."
   ]
  },
  {
   "cell_type": "markdown",
   "metadata": {
    "id": "ZSRvJPXiN90U"
   },
   "source": [
    "**3.4. Ejercicios**\n",
    "\n",
    "1. Genere un vector de 15 elementos donde todos sus elementos son el número 1 e imprima sus dimensiones.\n"
   ]
  },
  {
   "cell_type": "code",
   "execution_count": 105,
   "metadata": {
    "id": "m29HLYhEN6fF"
   },
   "outputs": [
    {
     "name": "stdout",
     "output_type": "stream",
     "text": [
      "Vector: [1. 1. 1. 1. 1. 1. 1. 1. 1. 1. 1. 1. 1. 1. 1.]\n",
      "Dimensiones: (15,)\n"
     ]
    }
   ],
   "source": [
    "vector = np.ones(15)\n",
    "\n",
    "print(\"Vector:\", vector)\n",
    "print(\"Dimensiones:\", vector.shape)"
   ]
  },
  {
   "cell_type": "markdown",
   "metadata": {
    "id": "Mldt5ugAOrB3"
   },
   "source": [
    "\n",
    "2. Genere una matriz de 3 filas por 6 columnas donde todos sus elementos sean el número 0.\n"
   ]
  },
  {
   "cell_type": "code",
   "execution_count": 106,
   "metadata": {
    "id": "5PMMrRh0OsYd"
   },
   "outputs": [
    {
     "name": "stdout",
     "output_type": "stream",
     "text": [
      "[[0. 0. 0. 0. 0. 0.]\n",
      " [0. 0. 0. 0. 0. 0.]\n",
      " [0. 0. 0. 0. 0. 0.]]\n"
     ]
    }
   ],
   "source": [
    "matriz = np.zeros((3, 6))\n",
    "print(matriz)"
   ]
  },
  {
   "cell_type": "markdown",
   "metadata": {
    "id": "3gkPOHEQOs1U"
   },
   "source": [
    "\n",
    "3. Genere una matriz de 8x8 donde todos los elementos de la diagonal principal son el número 1 y los demás son el número 0.\n",
    "\n"
   ]
  },
  {
   "cell_type": "code",
   "execution_count": 107,
   "metadata": {
    "id": "OLBczRUgOuGF"
   },
   "outputs": [
    {
     "name": "stdout",
     "output_type": "stream",
     "text": [
      "[[1. 0. 0. 0. 0. 0. 0. 0.]\n",
      " [0. 1. 0. 0. 0. 0. 0. 0.]\n",
      " [0. 0. 1. 0. 0. 0. 0. 0.]\n",
      " [0. 0. 0. 1. 0. 0. 0. 0.]\n",
      " [0. 0. 0. 0. 1. 0. 0. 0.]\n",
      " [0. 0. 0. 0. 0. 1. 0. 0.]\n",
      " [0. 0. 0. 0. 0. 0. 1. 0.]\n",
      " [0. 0. 0. 0. 0. 0. 0. 1.]]\n"
     ]
    }
   ],
   "source": [
    "matriz = np.eye(8)\n",
    "\n",
    "print(matriz)"
   ]
  },
  {
   "cell_type": "markdown",
   "metadata": {
    "id": "CeC8mc2-Outp"
   },
   "source": [
    "4. Escriba una función que reciba como argumento una matriz y retorne el promedio por filas de sus elementos en un arreglo de Numpy.\n",
    "\n",
    "    **Hint:** ¿Que función tiene el parámetro axis dentro de la función np.mean()?"
   ]
  },
  {
   "cell_type": "code",
   "execution_count": 108,
   "metadata": {
    "id": "WUXKnnatPD-d"
   },
   "outputs": [
    {
     "name": "stdout",
     "output_type": "stream",
     "text": [
      "[2. 5. 8.]\n"
     ]
    }
   ],
   "source": [
    "def promedio_por_filas(matriz):\n",
    "    matriz_np = np.array(matriz)\n",
    "    return np.mean(matriz_np, axis=1)\n",
    "\n",
    "matriz = [\n",
    "    [1, 2, 3],\n",
    "    [4, 5, 6],\n",
    "    [7, 8, 9]\n",
    "]\n",
    "\n",
    "promedios = promedio_por_filas(matriz)\n",
    "print(promedios)"
   ]
  },
  {
   "cell_type": "markdown",
   "metadata": {
    "id": "4EvB-nTkPIi-"
   },
   "source": [
    "5. Escriba una función que reciba como argumento una matriz y retorne el promedio por columnas de sus elementos en un arreglo de numpy."
   ]
  },
  {
   "cell_type": "code",
   "execution_count": 109,
   "metadata": {
    "id": "KqxPmaSQPIjF"
   },
   "outputs": [
    {
     "name": "stdout",
     "output_type": "stream",
     "text": [
      "[4. 5. 6.]\n"
     ]
    }
   ],
   "source": [
    "def promedio_por_filas(matriz):\n",
    "    matriz_np = np.array(matriz)\n",
    "    return np.mean(matriz_np, axis=0)\n",
    "\n",
    "matriz = [\n",
    "    [1, 2, 3],\n",
    "    [4, 5, 6],\n",
    "    [7, 8, 9]\n",
    "]\n",
    "\n",
    "promedios = promedio_por_filas(matriz)\n",
    "print(promedios)"
   ]
  },
  {
   "cell_type": "markdown",
   "metadata": {
    "id": "Arg1_bRrTJID"
   },
   "source": [
    "#**4. Propiedades y operaciones con matrices**\n",
    "\n",
    "NumPy permite realizar distintas operaciones con matrices, entre las principales se encuentran:\n",
    "\n",
    "```\n",
    "a = np.array([[1,2],[3,4]])\n",
    "b = np.array([[5,6],[7,8]])\n",
    "```\n",
    "- **Suma de matrices**: La suma de matrices elemento a elemento se realiza sumando las dos matrices como dos variables estandar.\n",
    "```\n",
    "c = a + b\n",
    "[[ 6  8]\n",
    " [10 12]]\n",
    "```\n",
    "- **Resta de matrices**: La resta de matrices elemento a elemento se realiza restando las dos matrices como dos variables estandar.\n",
    "```\n",
    "c = a - b\n",
    "[[-4 -4]\n",
    " [-4 -4]]\n",
    "```\n",
    "- **División de matrices**: La división de matrices elemento a elemento se realiza dividiendo las dos matrices como dos variables estandar (esto también incluye la división entera y la operación módulo).\n",
    "```\n",
    "c = a / b\n",
    "[[0.2        0.33333333]\n",
    " [0.42857143 0.5       ]]\n",
    "```\n",
    "\n",
    "- **Multiplicación de matrices (elemento a elemento)**: La multiplicación de matrices elemento a elemento se realiza multiplicando las dos matrices como dos variables estandar.\n",
    "```\n",
    "c = a * b\n",
    "[[ 5 12]\n",
    " [21 32]]\n",
    "```\n",
    "\n",
    "- **Producto matricial**: El producto entre matrices se puede realizar de varias formas, algunas de ellas incluyen el símbolo '@' como operador. Bajo esta implementación Numpy se ajusta automáticamente a los distintos tipos de producto que se dan a lugar entre vectores y matrices.\n",
    "\n",
    "Importante: \n",
    "Si los dos objetos son vectores, se hace un producto punto al usar el operador '@'. Es equivalente usar la función *numpy.dot()*.\n",
    "Si los dos objetos son matrices, y satisfacen la relación necesaria entre filas y columnas de esta operación, se hace un producto matricial al usar el operador '@'. Es equivalente a usar la función *numpy.matmul()*.\n",
    "En la versión reciente de Numpy, se ha extendido el uso de np.dot() y np.matmul() de modo que ahora es completamente equivalente usar cualquiera de las tres aproximaciones: '@', *numpy.dot()*. ó *numpy.matmul()*, y Numpy realiza el producto que tenga sentido de acuerdo a la naturaleza de los objetos que se operan.\n",
    "```\n",
    "c = a @ b\n",
    "[[19 22]\n",
    " [43 50]]\n",
    "c = np.dot(a,b)\n",
    "[[19 22]\n",
    " [43 50]]\n",
    "```\n",
    "\n",
    "\n",
    "\n",
    "\n"
   ]
  },
  {
   "cell_type": "markdown",
   "metadata": {
    "id": "pHJLzWnXU2dV"
   },
   "source": [
    "**4.1. Ejercicios**\n",
    "\n",
    "Para las siguientes parejas de matrices determine:\n",
    "\n",
    "- Suma de las matrices elemento a elemento.\n",
    "\n",
    "- Resta de las matrices elemento a elemento.\n",
    "\n",
    "- División de las matrices elemento a elemento.\n",
    "\n",
    "- Multiplicación de las matrices elemento a elemento.\n",
    "\n",
    "- Producto matricial."
   ]
  },
  {
   "cell_type": "markdown",
   "metadata": {
    "id": "DZQQPYOharLX"
   },
   "source": [
    "**Pareja 1:**\n",
    "\n",
    "\\begin{align}\n",
    " \\begin{pmatrix}\n",
    " 10 & 2 & 1 & \\\\\n",
    " 24 & 1 & 2 & \\\\\n",
    " 2 & 3 & 2 & \\\\\n",
    "\\end{pmatrix}  \n",
    " \\begin{pmatrix}\n",
    " 3 & 7 & 8 & \\\\\n",
    " 2 & 1 & 3 & \\\\\n",
    " 7 & 9 & 8 & \\\\\n",
    "\\end{pmatrix}\n",
    "\\end{align}\n"
   ]
  },
  {
   "cell_type": "code",
   "execution_count": 110,
   "metadata": {},
   "outputs": [],
   "source": [
    "matriz_1 = np.array([\n",
    "    [10, 2, 1],\n",
    "    [24, 1, 2],\n",
    "    [2, 3, 2]\n",
    "])\n",
    "\n",
    "matriz_2 = np.array([\n",
    "    [3, 7, 8],\n",
    "    [2, 1, 3],\n",
    "    [7, 9, 8]\n",
    "])"
   ]
  },
  {
   "cell_type": "code",
   "execution_count": 111,
   "metadata": {
    "id": "-qHMviP3bRaC"
   },
   "outputs": [
    {
     "name": "stdout",
     "output_type": "stream",
     "text": [
      "[[13  9  9]\n",
      " [26  2  5]\n",
      " [ 9 12 10]]\n"
     ]
    }
   ],
   "source": [
    "c = matriz_1 + matriz_2\n",
    "print(c)"
   ]
  },
  {
   "cell_type": "code",
   "execution_count": 112,
   "metadata": {
    "id": "zwNB-mBhbRT8"
   },
   "outputs": [
    {
     "name": "stdout",
     "output_type": "stream",
     "text": [
      "[[ 7 -5 -7]\n",
      " [22  0 -1]\n",
      " [-5 -6 -6]]\n"
     ]
    }
   ],
   "source": [
    "c = matriz_1 - matriz_2\n",
    "print(c)"
   ]
  },
  {
   "cell_type": "code",
   "execution_count": 113,
   "metadata": {
    "id": "Xpzp-p-QbRNA"
   },
   "outputs": [
    {
     "name": "stdout",
     "output_type": "stream",
     "text": [
      "[[ 3.33333333  0.28571429  0.125     ]\n",
      " [12.          1.          0.66666667]\n",
      " [ 0.28571429  0.33333333  0.25      ]]\n"
     ]
    }
   ],
   "source": [
    "c = matriz_1 / matriz_2\n",
    "print(c)"
   ]
  },
  {
   "cell_type": "code",
   "execution_count": 114,
   "metadata": {
    "id": "FW9YY_s8bRG8"
   },
   "outputs": [
    {
     "name": "stdout",
     "output_type": "stream",
     "text": [
      "[[30 14  8]\n",
      " [48  1  6]\n",
      " [14 27 16]]\n"
     ]
    }
   ],
   "source": [
    "c= matriz_1 * matriz_2\n",
    "print(c)"
   ]
  },
  {
   "cell_type": "code",
   "execution_count": 115,
   "metadata": {
    "id": "fDfRsUWPbQuo"
   },
   "outputs": [
    {
     "name": "stdout",
     "output_type": "stream",
     "text": [
      "[[ 41  81  94]\n",
      " [ 88 187 211]\n",
      " [ 26  35  41]]\n"
     ]
    }
   ],
   "source": [
    "c = matriz_1 @ matriz_2\n",
    "print(c)"
   ]
  },
  {
   "cell_type": "markdown",
   "metadata": {
    "id": "PdJk6xoJbSCx"
   },
   "source": [
    "\n",
    "**Pareja 2:**\n",
    "\n",
    "\\begin{align}\n",
    " \\begin{pmatrix}\n",
    " 9 & 4 & 7 & \\\\\n",
    " 4 & 6 & 2 & \\\\\n",
    " 2 & 8 & 5 & \\\\\n",
    "\\end{pmatrix}\n",
    " \\begin{pmatrix}\n",
    " 1 & 2 & 4 & \\\\\n",
    " 6 & 7 & 5 & \\\\\n",
    " 16 & 14 & 7 & \\\\\n",
    "\\end{pmatrix}\n",
    "\\end{align}"
   ]
  },
  {
   "cell_type": "code",
   "execution_count": 116,
   "metadata": {},
   "outputs": [],
   "source": [
    "matriz_3 = np.array([\n",
    "    [9, 4, 7],\n",
    "    [4, 6, 2],\n",
    "    [2, 8, 5]\n",
    "])\n",
    "\n",
    "matriz_4 = np.array([\n",
    "    [1, 2, 4],\n",
    "    [6, 7, 5],\n",
    "    [16, 14, 7]\n",
    "])"
   ]
  },
  {
   "cell_type": "code",
   "execution_count": 117,
   "metadata": {
    "id": "1uOvKKUCbi0-"
   },
   "outputs": [
    {
     "name": "stdout",
     "output_type": "stream",
     "text": [
      "[[10  6 11]\n",
      " [10 13  7]\n",
      " [18 22 12]]\n"
     ]
    }
   ],
   "source": [
    "#Suma de las matrices\n",
    "suma = matriz_3 + matriz_4\n",
    "print(suma)"
   ]
  },
  {
   "cell_type": "code",
   "execution_count": 118,
   "metadata": {
    "id": "xB95hbLXbi0-"
   },
   "outputs": [
    {
     "name": "stdout",
     "output_type": "stream",
     "text": [
      "[[  8   2   3]\n",
      " [ -2  -1  -3]\n",
      " [-14  -6  -2]]\n"
     ]
    }
   ],
   "source": [
    "#Resta de las matrices\n",
    "resta = matriz_3 - matriz_4\n",
    "print(resta)\n"
   ]
  },
  {
   "cell_type": "code",
   "execution_count": 119,
   "metadata": {
    "id": "sixhZo1tbi0-"
   },
   "outputs": [
    {
     "name": "stdout",
     "output_type": "stream",
     "text": [
      "[[9.         2.         1.75      ]\n",
      " [0.66666667 0.85714286 0.4       ]\n",
      " [0.125      0.57142857 0.71428571]]\n"
     ]
    }
   ],
   "source": [
    "#División de las matrices\n",
    "division = matriz_3 / matriz_4\n",
    "print(division)"
   ]
  },
  {
   "cell_type": "code",
   "execution_count": 120,
   "metadata": {
    "id": "Hysf5ubbbi0_"
   },
   "outputs": [
    {
     "name": "stdout",
     "output_type": "stream",
     "text": [
      "[[  9   8  28]\n",
      " [ 24  42  10]\n",
      " [ 32 112  35]]\n"
     ]
    }
   ],
   "source": [
    "#Multiplicación de las matrices\n",
    "multiplicacion = matriz_3 * matriz_4\n",
    "print(multiplicacion)"
   ]
  },
  {
   "cell_type": "code",
   "execution_count": 121,
   "metadata": {
    "id": "a6KsPpElbi0_"
   },
   "outputs": [
    {
     "name": "stdout",
     "output_type": "stream",
     "text": [
      "[[145 144 105]\n",
      " [ 72  78  60]\n",
      " [130 130  83]]\n"
     ]
    }
   ],
   "source": [
    "#Producto matricial\n",
    "producto = matriz_3 @ matriz_4\n",
    "print(producto)"
   ]
  },
  {
   "cell_type": "markdown",
   "metadata": {
    "id": "xKFU93UrXSqc"
   },
   "source": [
    "#**5. Operaciones de álgebra lineal**\n",
    "\n",
    "Numpy permite realizar ciertas operaciones de álgebra lineal haciendo uso de su paquete linalg, hoy observaremos algunas de las principales operaciones que pueden ser realizadas con NumPy.\n",
    "\n",
    "**np.linalg.det:** Calcula el determinante de un array que debe ser de MxM.\n",
    "\n",
    "**np.linalg.inv:** Calcula la inversa de un array que debe ser de MxM y retorna un error si la conversión falla o el array no tiene MxM elementos.\n",
    "\n",
    "**np.linalg.eig:** Calcula los eigenvalores y eigenvectores de un array que debe ser de MxM y los retorna en la forma (W,v) donde W es un array que contiene los eigenvalores y v un array que contiene los eigenvectores."
   ]
  },
  {
   "cell_type": "markdown",
   "metadata": {
    "id": "GZ-bRC1-ZF6G"
   },
   "source": [
    "**5.1. Ejercicios**\n",
    "\n",
    "1. Para cada una de las siguientes matrices:\n",
    "\n",
    "    a. Determine el número de dimensiones (filas y columnas) de la matriz.\n",
    "\n",
    "    b. Determine las dimensión de la matriz.\n",
    "\n",
    "    c. Calcule el determinante de la matriz.\n",
    "\n",
    "    d. Calcule la inversa de la matriz.      \n",
    "\n",
    "    e. Calcule los valores y vectores propios, e imprímalos en pantalla de la siguiente manera:\n",
    "\n",
    "  Eigenvalor 1: valor, Eigenvector 1: $[1,2...]$\n",
    "\n",
    "Matriz 1\n",
    "\n",
    "\\begin{align}\n",
    " \\begin{pmatrix}\n",
    " 1 & 8 & 2 \\\\\n",
    " 3 & 4 & 5 \\\\\n",
    " 5 & 1 & 10 \\\\\n",
    "\\end{pmatrix}\n",
    " \\end{align}\n",
    "\n",
    "\n",
    "Matriz 2\n",
    "\n",
    "\\begin{align}\n",
    " \\begin{pmatrix}\n",
    " 7 & 6 & 3 \\\\\n",
    " 2 & 9 & 5 \\\\\n",
    " 3 & 7 & 10 \\\\\n",
    "\\end{pmatrix}\n",
    " \\end{align}\n",
    "\n",
    "\n",
    "Matriz 3\n",
    "\n",
    "\\begin{align}\n",
    " \\begin{pmatrix}\n",
    " 10 & 8 & 1 \\\\\n",
    " 6 & 2 & 7 \\\\\n",
    " 8 & 9 & 4 \\\\\n",
    "\\end{pmatrix}\n",
    " \\end{align}"
   ]
  },
  {
   "cell_type": "code",
   "execution_count": 122,
   "metadata": {
    "id": "6bXF9va4adnd"
   },
   "outputs": [],
   "source": [
    "matriz_1 = np.array([\n",
    "    [1, 8, 2],\n",
    "    [3, 4, 5],\n",
    "    [5, 1, 10]\n",
    "])\n",
    "\n",
    "matriz_2 = np.array([\n",
    "    [7, 6, 3],\n",
    "    [2, 9, 5],\n",
    "    [3, 7, 10]\n",
    "])\n",
    "\n",
    "matriz_3 = np.array([\n",
    "    [10, 8, 1],\n",
    "    [6, 2, 7],\n",
    "    [8, 9, 4]\n",
    "])"
   ]
  },
  {
   "cell_type": "code",
   "execution_count": 123,
   "metadata": {},
   "outputs": [
    {
     "name": "stdout",
     "output_type": "stream",
     "text": [
      "Número de dimensiones: 2\n",
      "Dimensiones de la matriz: (3, 3)\n",
      "Determinante de la matriz: -39.00000000000003\n",
      "Inversa de la matriz:\n",
      "[[-0.8974359   2.         -0.82051282]\n",
      " [ 0.12820513  0.         -0.02564103]\n",
      " [ 0.43589744 -1.          0.51282051]]\n",
      "Valores propios: [13.69698787 -1.15730612  2.46031825]\n",
      "Vectores propios:\n",
      "[[-0.44048647 -0.90756142 -0.78200532]\n",
      " [-0.51532458  0.146337   -0.28173716]\n",
      " [-0.73512736  0.39359592  0.5559603 ]]\n"
     ]
    }
   ],
   "source": [
    "#Matriz 1\n",
    "\n",
    "matriz_1 = np.array([\n",
    "    [1, 8, 2],\n",
    "    [3, 4, 5],\n",
    "    [5, 1, 10]\n",
    "])\n",
    "\n",
    "# a. Número de dimensiones\n",
    "dimensiones = matriz_1.ndim\n",
    "print(\"Número de dimensiones:\", dimensiones)\n",
    "\n",
    "# b. Dimensiones de la matriz\n",
    "filas_columnas = matriz_1.shape\n",
    "print(\"Dimensiones de la matriz:\", filas_columnas)\n",
    "\n",
    "# c. Determinante de la matriz\n",
    "determinante = np.linalg.det(matriz_1)\n",
    "print(\"Determinante de la matriz:\", determinante)\n",
    "\n",
    "# d. Inversa de la matriz\n",
    "if determinante != 0:\n",
    "    inversa = np.linalg.inv(matriz_1)\n",
    "    print(\"Inversa de la matriz:\")\n",
    "    print(inversa)\n",
    "else:\n",
    "    print(\"La matriz no es invertible, ya que su determinante es cero.\")\n",
    "\n",
    "# e. Valores y vectores propios\n",
    "valores_propios, vectores_propios = np.linalg.eig(matriz_1)\n",
    "print(\"Valores propios:\", valores_propios)\n",
    "print(\"Vectores propios:\")\n",
    "print(vectores_propios)\n"
   ]
  },
  {
   "cell_type": "code",
   "execution_count": 124,
   "metadata": {},
   "outputs": [
    {
     "name": "stdout",
     "output_type": "stream",
     "text": [
      "Número de dimensiones: 2\n",
      "Dimensiones de la matriz: (3, 3)\n",
      "Determinante de la matriz: 316.00000000000006\n",
      "Inversa de la matriz:\n",
      "[[ 0.17405063 -0.12341772  0.00949367]\n",
      " [-0.01582278  0.19303797 -0.09177215]\n",
      " [-0.04113924 -0.09810127  0.16139241]]\n",
      "Valores propios: [17.4807407  4.5192593  4.       ]\n",
      "Vectores propios:\n",
      "[[-0.49796516 -0.93152197  0.84515425]\n",
      " [-0.52456429  0.36026516 -0.50709255]\n",
      " [-0.69055268  0.04975784  0.16903085]]\n"
     ]
    }
   ],
   "source": [
    "#Matriz 2\n",
    "\n",
    "# a. Número de dimensiones\n",
    "dimensiones = matriz_2.ndim\n",
    "print(\"Número de dimensiones:\", dimensiones)\n",
    "\n",
    "# b. Dimensiones de la matriz\n",
    "filas_columnas = matriz_2.shape\n",
    "print(\"Dimensiones de la matriz:\", filas_columnas)\n",
    "\n",
    "# c. Determinante de la matriz\n",
    "determinante = np.linalg.det(matriz_2)\n",
    "print(\"Determinante de la matriz:\", determinante)\n",
    "\n",
    "# d. Inversa de la matriz\n",
    "if determinante != 0:\n",
    "    inversa = np.linalg.inv(matriz_2)\n",
    "    print(\"Inversa de la matriz:\")\n",
    "    print(inversa)\n",
    "else:\n",
    "    print(\"La matriz no es invertible, ya que su determinante es cero.\")\n",
    "\n",
    "# e. Valores y vectores propios\n",
    "valores_propios, vectores_propios = np.linalg.eig(matriz_2)\n",
    "print(\"Valores propios:\", valores_propios)\n",
    "print(\"Vectores propios:\")\n",
    "print(vectores_propios)"
   ]
  },
  {
   "cell_type": "code",
   "execution_count": 125,
   "metadata": {},
   "outputs": [
    {
     "name": "stdout",
     "output_type": "stream",
     "text": [
      "Número de dimensiones: 2\n",
      "Dimensiones de la matriz: (3, 3)\n",
      "Determinante de la matriz: -256.00000000000017\n",
      "Inversa de la matriz:\n",
      "[[ 0.21484375  0.08984375 -0.2109375 ]\n",
      " [-0.125      -0.125       0.25      ]\n",
      " [-0.1484375   0.1015625   0.109375  ]]\n",
      "Valores propios: [18.04039975  2.88251466 -4.9229144 ]\n",
      "Vectores propios:\n",
      "[[ 0.57631756  0.63193117  0.39856344]\n",
      " [ 0.49825751 -0.48684098 -0.79961383]\n",
      " [ 0.64776347 -0.60303305  0.44918249]]\n"
     ]
    }
   ],
   "source": [
    "#Matriz 3\n",
    "# a. Número de dimensiones\n",
    "dimensiones = matriz_3.ndim\n",
    "print(\"Número de dimensiones:\", dimensiones)\n",
    "\n",
    "# b. Dimensiones de la matriz\n",
    "filas_columnas = matriz_3.shape\n",
    "print(\"Dimensiones de la matriz:\", filas_columnas)\n",
    "\n",
    "# c. Determinante de la matriz\n",
    "determinante = np.linalg.det(matriz_3)\n",
    "print(\"Determinante de la matriz:\", determinante)\n",
    "\n",
    "# d. Inversa de la matriz\n",
    "if determinante != 0:\n",
    "    inversa = np.linalg.inv(matriz_3)\n",
    "    print(\"Inversa de la matriz:\")\n",
    "    print(inversa)\n",
    "else:\n",
    "    print(\"La matriz no es invertible, ya que su determinante es cero.\")\n",
    "\n",
    "# e. Valores y vectores propios\n",
    "valores_propios, vectores_propios = np.linalg.eig(matriz_3)\n",
    "print(\"Valores propios:\", valores_propios)\n",
    "print(\"Vectores propios:\")\n",
    "print(vectores_propios)"
   ]
  },
  {
   "cell_type": "markdown",
   "metadata": {
    "id": "43JhsZScdc0E"
   },
   "source": [
    "#**6. Arange vs linspace**\n",
    "\n",
    "Otros dos métodos conocidos para la creación de arrays son np.arange y np.linspace. Estos métodos son usados especialmente cuando se busca crear arrays que representen una secuencia temporal, como por ejemplo un array representando la variable del tiempo que va de 0 a 50 segundos con pasos de 1 segundo. Ambos métodos reciben como argumentos obligatorios el número de inicio y el número de fin. La principal diferencia entre estos métodos se da en que np.arange recibe como tercer argumento los intervalos para los que se quiere la muestra. Por ejemplo, si se quiere crear un array de 0 a 50 con pasos de 1, la síntesis del código debería ser:\n",
    "\n",
    "```\n",
    "array = np.arange(0,51,1)\n",
    "```\n",
    "Por otra parte, linspace recibe como tercer argumento el número de muestras que se quiere en el array. Es decir, si se quiere que el array sea de 1 a 50 con pasos de 1 (50 muestras) la síntesis del código debería ser:\n",
    "\n",
    "\n",
    "\n",
    "```\n",
    "array = np.linspace(0,50,51)\n",
    "```\n",
    "\n",
    "**Nota:** Es importante diferenciar el tipo de dato que contiene el array, ya que en el caso del ejemplo de arange, como se están utilizando pasos enteros (de 1 en 1) el retorno es un array con números en tipo int32, mientras que en el caso del ejemplo de linspace el retorno se da en float64. Comúnmente se trabaja con float64 en NumPy, así que si quisieramos que el retorno del ejemplo de arange sea en formato float64 basta con cambiar el número de pasos a uno que no sea entero o a definir con un punto al final cada número como a continuación:\n",
    "\n",
    "\n",
    "```\n",
    "array = np.arange(0., 51., 1)\n",
    "```\n",
    "\n",
    "\n"
   ]
  },
  {
   "cell_type": "markdown",
   "metadata": {
    "id": "4lAqGDEHe11N"
   },
   "source": [
    "**6.1. Ejercicios**\n",
    "\n",
    "1. Defina un array que contenga números de 10 a 20 con pasos de 0.25 e imprima su longitud.\n"
   ]
  },
  {
   "cell_type": "code",
   "execution_count": 126,
   "metadata": {
    "id": "8sByJ-OMfn3U"
   },
   "outputs": [
    {
     "name": "stdout",
     "output_type": "stream",
     "text": [
      "Array: [10.   10.25 10.5  10.75 11.   11.25 11.5  11.75 12.   12.25 12.5  12.75\n",
      " 13.   13.25 13.5  13.75 14.   14.25 14.5  14.75 15.   15.25 15.5  15.75\n",
      " 16.   16.25 16.5  16.75 17.   17.25 17.5  17.75 18.   18.25 18.5  18.75\n",
      " 19.   19.25 19.5  19.75 20.  ]\n",
      "Longitud del array: 41\n"
     ]
    }
   ],
   "source": [
    "\n",
    "array = np.arange(10, 20.25, 0.25)\n",
    "\n",
    "# Imprimir el array y su longitud\n",
    "print(\"Array:\", array)\n",
    "print(\"Longitud del array:\", len(array))\n"
   ]
  },
  {
   "cell_type": "markdown",
   "metadata": {
    "id": "Jk1c2VRPfoVy"
   },
   "source": [
    "\n",
    "2. Defina un array que contenga números de 1 a 5 y que contenga 100 elementos.\n"
   ]
  },
  {
   "cell_type": "code",
   "execution_count": 127,
   "metadata": {
    "id": "dw5XkcWVfplj"
   },
   "outputs": [
    {
     "name": "stdout",
     "output_type": "stream",
     "text": [
      "Array: [10.   10.25 10.5  10.75 11.   11.25 11.5  11.75 12.   12.25 12.5  12.75\n",
      " 13.   13.25 13.5  13.75 14.   14.25 14.5  14.75 15.   15.25 15.5  15.75\n",
      " 16.   16.25 16.5  16.75 17.   17.25 17.5  17.75 18.   18.25 18.5  18.75\n",
      " 19.   19.25 19.5  19.75 20.  ]\n",
      "Longitud del array: 41\n"
     ]
    }
   ],
   "source": [
    "array2 = np.linspace(1,5,100)\n",
    "\n",
    "print(\"Array:\", array2)\n",
    "print(\"Longitud del array:\", len(array2))"
   ]
  },
  {
   "cell_type": "markdown",
   "metadata": {
    "id": "p3u75TKRfp6O"
   },
   "source": [
    "\n",
    "3. Defina dos arrays con los límites de su preferencia (deben ser los mismos para ambos arrays) utilizando los dos métodos de tal manera que ambos arrays tengan el mismo número de datos e imprima su longitud."
   ]
  },
  {
   "cell_type": "code",
   "execution_count": 128,
   "metadata": {
    "id": "gfvZqVvFfqaA"
   },
   "outputs": [
    {
     "name": "stdout",
     "output_type": "stream",
     "text": [
      "Array1: [ 5  6  7  8  9 10 11 12 13 14]\n",
      "Longitud del array1: 10\n",
      "Array2: [ 5.          6.11111111  7.22222222  8.33333333  9.44444444 10.55555556\n",
      " 11.66666667 12.77777778 13.88888889 15.        ]\n",
      "Longitud del array2: 10\n"
     ]
    }
   ],
   "source": [
    "inicio = 5\n",
    "fin = 15\n",
    "\n",
    "array_arange = np.arange(inicio, fin, 1)\n",
    "array_linspace = np.linspace(inicio, fin, len(array_arange))\n",
    "\n",
    "\n",
    "print(\"Array1:\", array_arange)\n",
    "print(\"Longitud del array1:\", len(array_arange))\n",
    "\n",
    "print(\"Array2:\", array_linspace)\n",
    "print(\"Longitud del array2:\", len(array_linspace))\n"
   ]
  }
 ],
 "metadata": {
  "colab": {
   "provenance": []
  },
  "kernelspec": {
   "display_name": "base",
   "language": "python",
   "name": "python3"
  },
  "language_info": {
   "codemirror_mode": {
    "name": "ipython",
    "version": 3
   },
   "file_extension": ".py",
   "mimetype": "text/x-python",
   "name": "python",
   "nbconvert_exporter": "python",
   "pygments_lexer": "ipython3",
   "version": "3.12.3"
  }
 },
 "nbformat": 4,
 "nbformat_minor": 0
}
